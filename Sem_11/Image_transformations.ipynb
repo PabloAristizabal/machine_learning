{
  "nbformat": 4,
  "nbformat_minor": 0,
  "metadata": {
    "colab": {
      "provenance": [],
      "collapsed_sections": [
        "uvChHZhEZvym"
      ]
    },
    "kernelspec": {
      "name": "python3",
      "display_name": "Python 3"
    },
    "language_info": {
      "name": "python"
    }
  },
  "cells": [
    {
      "cell_type": "markdown",
      "source": [
        "#Introduction to Dataset, DataLoader and Torchvision"
      ],
      "metadata": {
        "id": "uvChHZhEZvym"
      }
    },
    {
      "cell_type": "code",
      "source": [
        "#@markdown ---------------\n",
        "#@markdown ## **⚠️❗ Ejecute esta celda para descargar Shoes dataset❗⚠️**\n",
        "#@markdown ### Esta celda creará la carpeta ```/content/shoes_data```\n",
        "\n",
        "!pip install -qq gdown\n",
        "!gdown -qq \"https://drive.google.com/uc?id=1_fIMm5nPp0BLJZKfkJZ_juRmLpRK4iA0\" -O /shoes_data.zip\n",
        "!mkdir /content/shoes_data/\n",
        "!unzip -qq /shoes_data.zip -d /content/shoes_data\n",
        "!rm -r /shoes_data.zip\n",
        "print (\"Done!\")\n",
        "#@markdown ---------------"
      ],
      "metadata": {
        "cellView": "form",
        "colab": {
          "base_uri": "https://localhost:8080/"
        },
        "id": "coHRGtg0GhvE",
        "outputId": "e0cf0800-f8cb-4e29-db37-a47616f3465e"
      },
      "execution_count": null,
      "outputs": [
        {
          "output_type": "stream",
          "name": "stdout",
          "text": [
            "Done!\n"
          ]
        }
      ]
    },
    {
      "cell_type": "code",
      "source": [
        "import torch\n",
        "from torch import nn\n",
        "from torchsummary import summary\n",
        "from torchvision import datasets\n",
        "from torchvision import transforms as T\n",
        "from torch.utils.data import DataLoader\n",
        "\n",
        "from PIL import Image\n",
        "import numpy as np\n",
        "import time\n",
        "from tqdm import tqdm\n",
        "import matplotlib.pyplot as plt"
      ],
      "metadata": {
        "id": "455fTedilRSj"
      },
      "execution_count": null,
      "outputs": []
    },
    {
      "cell_type": "code",
      "metadata": {
        "id": "mkLxcJqwGhvE"
      },
      "source": [
        "#---- Importar librerias. Incluya acá todas las librerías que requiera\n",
        "train_dataset = datasets.ImageFolder(root= _ )\n",
        "test_dataset = datasets.ImageFolder(root= _ )"
      ],
      "execution_count": null,
      "outputs": []
    },
    {
      "cell_type": "code",
      "source": [
        "print ( _ )\n",
        "plt.imshow( _ )"
      ],
      "metadata": {
        "id": "NCdZWVHSIeRO"
      },
      "execution_count": null,
      "outputs": []
    },
    {
      "cell_type": "code",
      "source": [
        "def plot_images(imgs, grid_size = (5,5)):\n",
        "    #\n",
        "    _, axs = plt.subplots(grid_size[0], grid_size[0], figsize = (grid_size[0]*4, grid_size[1]*4))\n",
        "    axs = axs.ravel()\n",
        "\n",
        "    for i, (img, ax) in enumerate(zip(imgs, axs)):\n",
        "      if _ : #is tensor?\n",
        "        img = _\n",
        "      ax.imshow( img, cmap = 'gray' )\n",
        "      ax.set_axis_off()\n",
        "\n",
        "    plt.tight_layout()"
      ],
      "metadata": {
        "id": "5KpvFQvlHc_N"
      },
      "execution_count": null,
      "outputs": []
    },
    {
      "cell_type": "code",
      "source": [
        "original_imgs = [ _  for i in range(9)]\n",
        "plot_images (original_imgs, grid_size = (3,3))"
      ],
      "metadata": {
        "id": "AwM9R4FWIkaJ"
      },
      "execution_count": null,
      "outputs": []
    },
    {
      "cell_type": "code",
      "source": [
        "resized_imgs = [ T.Resize(size=size)( _ ) for size in (20,40,60,80)]\n",
        "plot_images (resized_imgs, grid_size = (2,2))"
      ],
      "metadata": {
        "id": "S7jY4x_IK1tA"
      },
      "execution_count": null,
      "outputs": []
    },
    {
      "cell_type": "code",
      "source": [
        "padded_imgs = [T.Pad(padding=padding)( _ )  for padding in (3, 10, 30, 50)]\n",
        "plot_images (padded_imgs, grid_size = (2,2))"
      ],
      "metadata": {
        "id": "ORzzdq7moh3k"
      },
      "execution_count": null,
      "outputs": []
    },
    {
      "cell_type": "code",
      "source": [
        "center_crops = [T.CenterCrop(size=size)( _ ) for size in (30, 50, 100, 102)]\n",
        "plot_images (center_crops, grid_size = (2,2))"
      ],
      "metadata": {
        "id": "Ah_nOrLRo0D0"
      },
      "execution_count": null,
      "outputs": []
    },
    {
      "cell_type": "code",
      "source": [
        "grayscale_imgs = [T.Grayscale()( _ ) for i in range(4)]\n",
        "plot_images (grayscale_imgs, grid_size = (2,2))"
      ],
      "metadata": {
        "id": "hKlidoI3pJqA"
      },
      "execution_count": null,
      "outputs": []
    },
    {
      "cell_type": "code",
      "source": [
        "persp_imgs = [T.RandomPerspective(distortion_scale=0.6, p=1.0)( _ ) for i in range(4)]\n",
        "plot_images (persp_imgs, grid_size = (2,2))"
      ],
      "metadata": {
        "id": "IVNvehlSpnoe"
      },
      "execution_count": null,
      "outputs": []
    },
    {
      "cell_type": "markdown",
      "source": [
        "## Create a dataloader"
      ],
      "metadata": {
        "id": "Abq7Y_qYr3ZI"
      }
    },
    {
      "cell_type": "code",
      "source": [
        "image_transforms = T.Compose([T.Resize((64,64), Image.BICUBIC),\n",
        "                                       T.ToTensor()])"
      ],
      "metadata": {
        "id": "MhtZHBYXqDb1"
      },
      "execution_count": null,
      "outputs": []
    },
    {
      "cell_type": "code",
      "metadata": {
        "id": "csyrMD_yqDb1"
      },
      "source": [
        "#---- Importar librerias. Incluya acá todas las librerías que requiera\n",
        "train_dataset = datasets.ImageFolder(root= _ , transform = _ )\n",
        "test_dataset = datasets.ImageFolder(root= _ , transform = _ )\n",
        "\n",
        "train_loader = DataLoader(train_dataset, batch_size= _ , shuffle=True)\n",
        "test_loader = DataLoader(test_dataset, batch_size= _ )"
      ],
      "execution_count": null,
      "outputs": []
    },
    {
      "cell_type": "code",
      "source": [
        "trainBatch = next(iter(train_loader))\n",
        "valBatch = next(iter(test_loader))"
      ],
      "metadata": {
        "id": "hS2E1rBvq4M8"
      },
      "execution_count": null,
      "outputs": []
    },
    {
      "cell_type": "code",
      "source": [
        "print (trainBatch[0].shape)"
      ],
      "metadata": {
        "id": "lLrYCEi_rA85"
      },
      "execution_count": null,
      "outputs": []
    }
  ]
}